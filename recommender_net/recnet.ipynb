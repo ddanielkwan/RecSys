{
 "cells": [
  {
   "cell_type": "code",
   "execution_count": 26,
   "metadata": {},
   "outputs": [],
   "source": [
    "import pandas as pd\n",
    "import numpy as np \n",
    "import tqdm\n",
    "import matplotlib.pyplot as plt\n",
    "\n",
    "import tensorflow as tf\n",
    "from tensorflow import keras\n",
    "from tensorflow.keras import layers\n",
    "\n",
    "import pprint \n"
   ]
  },
  {
   "cell_type": "code",
   "execution_count": 27,
   "metadata": {},
   "outputs": [],
   "source": [
    "tag = pd.read_csv(r'C:\\Users\\ck261\\Documents\\data-mining\\tp\\ml-latest-small\\ml-latest-small\\tags.csv')\n",
    "link = pd.read_csv(r'C:\\Users\\ck261\\Documents\\data-mining\\tp\\ml-latest-small\\ml-latest-small\\links.csv')\n",
    "movie = pd.read_csv(r'C:\\Users\\ck261\\Documents\\data-mining\\tp\\ml-latest-small\\ml-latest-small\\movies.csv')\n",
    "rating = pd.read_csv(r'C:\\Users\\ck261\\Documents\\data-mining\\tp\\ml-latest-small\\ml-latest-small\\ratings.csv')"
   ]
  },
  {
   "cell_type": "code",
   "execution_count": 28,
   "metadata": {},
   "outputs": [
    {
     "name": "stdout",
     "output_type": "stream",
     "text": [
      "Number of users: 610, Number of Movies: 9724, Min rating: 0.5, Max rating: 5.0\n"
     ]
    }
   ],
   "source": [
    "user_ids = rating[\"userId\"].unique().tolist()\n",
    "user2user_encoded = {x: i for i, x in enumerate(user_ids)}\n",
    "userencoded2user = {i: x for i, x in enumerate(user_ids)}\n",
    "movie_ids = rating[\"movieId\"].unique().tolist()\n",
    "movie2movie_encoded = {x: i for i, x in enumerate(movie_ids)}\n",
    "movie_encoded2movie = {i: x for i, x in enumerate(movie_ids)}\n",
    "rating[\"user\"] = rating[\"userId\"].map(user2user_encoded)\n",
    "rating[\"movie\"] = rating[\"movieId\"].map(movie2movie_encoded)\n",
    "\n",
    "num_users = len(user2user_encoded)\n",
    "num_movies = len(movie_encoded2movie)\n",
    "rating[\"rating\"] = rating[\"rating\"].values.astype(np.float32)\n",
    "# min and max ratings will be used to normalize the ratings later\n",
    "min_rating = min(rating[\"rating\"])\n",
    "max_rating = max(rating[\"rating\"])\n",
    "\n",
    "print(\n",
    "    \"Number of users: {}, Number of Movies: {}, Min rating: {}, Max rating: {}\".format(\n",
    "        num_users, num_movies, min_rating, max_rating\n",
    "    )\n",
    ")\n"
   ]
  },
  {
   "cell_type": "code",
   "execution_count": 29,
   "metadata": {},
   "outputs": [],
   "source": [
    "df = rating.sample(frac=1, random_state=42)\n",
    "x = df[[\"user\", \"movie\"]].values\n",
    "# Normalize the targets between 0 and 1. Makes it easy to train.\n",
    "y = df[\"rating\"].apply(lambda x: (x - min_rating) / (max_rating - min_rating)).values\n",
    "# Assuming training on 90% of the data and validating on 10%.\n",
    "train_indices = int(0.9 * df.shape[0])\n",
    "x_train, x_val, y_train, y_val = (\n",
    "    x[:train_indices],\n",
    "    x[train_indices:],\n",
    "    y[:train_indices],\n",
    "    y[train_indices:],\n",
    ")\n"
   ]
  },
  {
   "cell_type": "code",
   "execution_count": 47,
   "metadata": {},
   "outputs": [],
   "source": [
    "from recommender import RecommenderNet\n",
    "\n",
    "# 50 dimensional vectors\n",
    "\n",
    "model = RecommenderNet(num_users, num_movies, embedding_size=50)\n",
    "\n",
    "sgd = tf.keras.optimizers.SGD(\n",
    "    learning_rate=0.01, momentum=0.0, nesterov=False, name=\"SGD\"\n",
    ")\n",
    "\n",
    "rmse = tf.keras.metrics.RootMeanSquaredError(\n",
    "    name='root_mean_squared_error', dtype=None\n",
    ")\n",
    "\n",
    "model.compile(\n",
    "    loss=rmse, optimizer=sgd\n",
    ")\n"
   ]
  },
  {
   "cell_type": "code",
   "execution_count": 48,
   "metadata": {},
   "outputs": [
    {
     "name": "stdout",
     "output_type": "stream",
     "text": [
      "Epoch 1/5\n",
      "WARNING:tensorflow:Gradients do not exist for variables ['recommender_net_9/embedding_37/embeddings:0', 'recommender_net_9/embedding_39/embeddings:0'] when minimizing the loss. If you're using `model.compile()`, did you forget to provide a `loss`argument?\n",
      "WARNING:tensorflow:Gradients do not exist for variables ['recommender_net_9/embedding_37/embeddings:0', 'recommender_net_9/embedding_39/embeddings:0'] when minimizing the loss. If you're using `model.compile()`, did you forget to provide a `loss`argument?\n",
      "1418/1418 [==============================] - 16s 11ms/step - loss: 0.2856 - root_mean_squared_error: 0.2861 - val_loss: 0.2873 - val_root_mean_squared_error: 0.2859\n",
      "Epoch 2/5\n",
      "1418/1418 [==============================] - 13s 9ms/step - loss: 0.2862 - root_mean_squared_error: 0.2862 - val_loss: 0.2873 - val_root_mean_squared_error: 0.2859\n",
      "Epoch 3/5\n",
      "1418/1418 [==============================] - 12s 9ms/step - loss: 0.2854 - root_mean_squared_error: 0.2861 - val_loss: 0.2873 - val_root_mean_squared_error: 0.2859\n",
      "Epoch 4/5\n",
      "1418/1418 [==============================] - 13s 9ms/step - loss: 0.2868 - root_mean_squared_error: 0.2861 - val_loss: 0.2873 - val_root_mean_squared_error: 0.2859\n",
      "Epoch 5/5\n",
      "1418/1418 [==============================] - 13s 9ms/step - loss: 0.2858 - root_mean_squared_error: 0.2861 - val_loss: 0.2873 - val_root_mean_squared_error: 0.2859\n"
     ]
    }
   ],
   "source": [
    "history = model.fit(\n",
    "    x=x_train,\n",
    "    y=y_train,\n",
    "    batch_size=64,\n",
    "    epochs=5,\n",
    "    verbose=1,\n",
    "    validation_data=(x_val, y_val),\n",
    ")\n"
   ]
  },
  {
   "cell_type": "code",
   "execution_count": 49,
   "metadata": {},
   "outputs": [
    {
     "data": {
      "image/png": "[encoded data removed]",
      "text/plain": [
       "<Figure size 432x288 with 1 Axes>"
      ]
     },
     "metadata": {
      "needs_background": "light"
     },
     "output_type": "display_data"
    }
   ],
   "source": [
    "plt.plot(history.history[\"loss\"])\n",
    "plt.plot(history.history[\"val_loss\"])\n",
    "plt.title(\"RecommenderNet Model Loss\")\n",
    "plt.ylabel(\"loss\")\n",
    "plt.xlabel(\"epoch\")\n",
    "plt.legend([\"train\", \"test\"], loc=\"upper left\")\n",
    "plt.show()\n"
   ]
  },
  {
   "cell_type": "code",
   "execution_count": 44,
   "metadata": {},
   "outputs": [
    {
     "name": "stdout",
     "output_type": "stream",
     "text": [
      "Showing recommendations for user: 480\n",
      "====================================\n",
      "Movies with high ratings from user\n",
      "--------------------------------\n",
      "Godfather, The (1972) : Crime|Drama\n",
      "Back to the Future (1985) : Adventure|Comedy|Sci-Fi\n",
      "Last of the Mohicans, The (1992) : Action|Romance|War|Western\n",
      "Cider House Rules, The (1999) : Drama\n",
      "Baraka (1992) : Documentary\n",
      "--------------------------------\n",
      "Top 10 movie recommendations\n",
      "--------------------------------\n",
      "Dangerous Beauty (1998) : Drama\n",
      "King and I, The (1956) : Drama|Musical|Romance\n",
      "Walk on the Moon, A (1999) : Drama|Romance\n",
      "Twin Dragons (Shuang long hui) (1992) : Action|Comedy\n",
      "Cookie's Fortune (1999) : Comedy|Drama\n",
      "Life (1999) : Comedy|Crime|Drama\n",
      "Lost & Found (1999) : Comedy|Romance\n",
      "eXistenZ (1999) : Action|Sci-Fi|Thriller\n",
      "Journey to the West: Conquering the Demons (Daai wa sai you chi Chui mo chun kei) (2013) : Adventure|Comedy|Fantasy|Romance|IMAX\n",
      "Maniac Cop 2 (1990) : Action|Horror|Thriller\n"
     ]
    }
   ],
   "source": [
    "movie_df = movie\n",
    "\n",
    "# Let us get a user and see the top recommendations.\n",
    "user_id = df.userId.sample(2).iloc[0]\n",
    "movies_watched_by_user = df[df.userId == user_id]\n",
    "movies_not_watched = movie_df[\n",
    "    ~movie_df[\"movieId\"].isin(movies_watched_by_user.movieId.values)\n",
    "][\"movieId\"]\n",
    "movies_not_watched = list(\n",
    "    set(movies_not_watched).intersection(set(movie2movie_encoded.keys()))\n",
    ")\n",
    "movies_not_watched = [[movie2movie_encoded.get(x)] for x in movies_not_watched]\n",
    "user_encoder = user2user_encoded.get(user_id)\n",
    "user_movie_array = np.hstack(\n",
    "    ([[user_encoder]] * len(movies_not_watched), movies_not_watched)\n",
    ")\n",
    "ratings = model.predict(user_movie_array).flatten()\n",
    "top_ratings_indices = ratings.argsort()[-10:][::-1]\n",
    "recommended_movie_ids = [\n",
    "    movie_encoded2movie.get(movies_not_watched[x][0]) for x in top_ratings_indices\n",
    "]\n",
    "\n",
    "print(\"Showing recommendations for user: {}\".format(user_id))\n",
    "print(\"====\" * 9)\n",
    "print(\"Movies with high ratings from user\")\n",
    "print(\"----\" * 8)\n",
    "top_movies_user = (\n",
    "    movies_watched_by_user.sort_values(by=\"rating\", ascending=False)\n",
    "    .head(5)\n",
    "    .movieId.values\n",
    ")\n",
    "movie_df_rows = movie_df[movie_df[\"movieId\"].isin(top_movies_user)]\n",
    "for row in movie_df_rows.itertuples():\n",
    "    print(row.title, \":\", row.genres)\n",
    "\n",
    "print(\"----\" * 8)\n",
    "print(\"Top 10 movie recommendations\")\n",
    "print(\"----\" * 8)\n",
    "recommended_movies = movie_df[movie_df[\"movieId\"].isin(recommended_movie_ids)]\n",
    "for row in recommended_movies.itertuples():\n",
    "    print(row.title, \":\", row.genres)\n"
   ]
  }
 ],
 "metadata": {
  "interpreter": {
   "hash": "fddb69a2396a6d31e495fc8a08037dfb5377440bf644761ff0373e0b0e88f366"
  },
  "kernelspec": {
   "display_name": "Python 3.8.7 64-bit",
   "language": "python",
   "name": "python3"
  },
  "language_info": {
   "codemirror_mode": {
    "name": "ipython",
    "version": 3
   },
   "file_extension": ".py",
   "mimetype": "text/x-python",
   "name": "python",
   "nbconvert_exporter": "python",
   "pygments_lexer": "ipython3",
   "version": "3.8.7"
  },
  "orig_nbformat": 4
 },
 "nbformat": 4,
 "nbformat_minor": 2
}
